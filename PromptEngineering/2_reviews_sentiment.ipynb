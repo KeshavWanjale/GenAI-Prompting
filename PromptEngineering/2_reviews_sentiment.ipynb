{
 "cells": [
  {
   "cell_type": "code",
   "execution_count": 11,
   "metadata": {},
   "outputs": [],
   "source": [
    "import google.generativeai as genai\n",
    "import os\n",
    "import csv\n",
    "from dotenv import load_dotenv\n",
    "\n",
    "load_dotenv()\n",
    "genai.configure(genai.configure(api_key=os.getenv(\"GOOGLE_API_KEY\")))"
   ]
  },
  {
   "cell_type": "code",
   "execution_count": 2,
   "metadata": {},
   "outputs": [],
   "source": [
    "def generate_content(prompt):\n",
    "    try:\n",
    "        model = genai.GenerativeModel(model_name='gemini-1.5-flash')\n",
    "        response = model.generate_content(prompt)\n",
    "        return response.text.strip()\n",
    "    except Exception as e:\n",
    "        print(f\"An error occurred: {e}\")\n",
    "        return None"
   ]
  },
  {
   "cell_type": "code",
   "execution_count": 3,
   "metadata": {},
   "outputs": [],
   "source": [
    "def load_review_content(file_path, delimiter=\"---END OF REVIEW---\"):\n",
    "    with open(file_path, 'r') as file:\n",
    "            reviews = file.read().split(delimiter)\n",
    "            \n",
    "    return [review.strip() for review in reviews if review.strip()]"
   ]
  },
  {
   "cell_type": "code",
   "execution_count": 4,
   "metadata": {},
   "outputs": [],
   "source": [
    "def extract_review_info(review):\n",
    "    lines = review.split(\"\\n\")\n",
    "    product = \"\"\n",
    "    review_text = \"\"\n",
    "\n",
    "    for line in lines:\n",
    "        if line.startswith(\"Product:\"):\n",
    "            product = line.split(\":\")[1].strip()\n",
    "            \n",
    "        elif line.startswith(\"Review:\"):\n",
    "            review_text = line.split(\":\")[1].strip()\n",
    "    \n",
    "    return product, review_text"
   ]
  },
  {
   "cell_type": "code",
   "execution_count": 8,
   "metadata": {},
   "outputs": [],
   "source": [
    "def analyze_sentiment(review_text):\n",
    "    sentiment = generate_content(f\"Categorize the sentiment in one word of this review in Postive/Negative/Neutral: {review_text}\")\n",
    "\n",
    "    reply = generate_content(f\"Add a 40 words reply to this review: {review_text} as per sentiment {sentiment}\")\n",
    "\n",
    "    return sentiment, reply"
   ]
  },
  {
   "cell_type": "code",
   "execution_count": 12,
   "metadata": {},
   "outputs": [],
   "source": [
    "def save_to_csv(data, csv_file):\n",
    "    with open(csv_file, 'w', newline='', encoding='utf-8') as file:\n",
    "        writer = csv.writer(file)\n",
    "        writer.writerow([\"Product\",\"Review\", \"Sentiment\", \"Reply\"])\n",
    "        writer.writerows(data)"
   ]
  },
  {
   "cell_type": "code",
   "execution_count": 16,
   "metadata": {},
   "outputs": [],
   "source": [
    "def process_reviews(file_path):\n",
    "    reviews = load_review_content(file_path)\n",
    "    data = []\n",
    "    for review in reviews:\n",
    "        product, review_text = extract_review_info(review)\n",
    "        sentiment, reply = analyze_sentiment(review_text)\n",
    "        data.append([product,review_text,sentiment,reply])\n",
    "    save_to_csv(data,\"Processed_Reviews.csv\")\n",
    "    return data"
   ]
  },
  {
   "cell_type": "code",
   "execution_count": 17,
   "metadata": {},
   "outputs": [
    {
     "name": "stdout",
     "output_type": "stream",
     "text": [
      "An error occurred: 429 Resource has been exhausted (e.g. check quota).\n",
      "An error occurred: 429 Resource has been exhausted (e.g. check quota).\n",
      "An error occurred: 429 Resource has been exhausted (e.g. check quota).\n",
      "[['Bluetooth Headphones', 'These headphones are incredible! The sound quality is crystal clear, with deep bass and balanced mids. The noise-cancellation feature works like a charm, and the battery life lasts over 30 hours on a single charge. Theyâ€™re comfortable for extended use, and the foldable design makes them travel-friendly. Highly recommend!', 'Positive', \"We're thrilled you love your headphones!  Your feedback on the sound quality, noise cancellation, battery life, and comfort means the world to us. Thanks for the amazing review!\"], ['Smartphone', 'Extremely disappointed with this phone. It overheats within 10 minutes of gaming, and the battery drains rapidly. The camera is overhyped; photos are grainy in low light, and the autofocus is slow. For the price, there are far better options in the market. Avoid this model.', 'Negative', \"We're truly sorry to hear about your negative experience.  Overheating and poor battery life are unacceptable.  Could you please contact our support team so we can investigate and find a solution?\"], ['Air Purifier', 'The air purifier is decent but not extraordinary. It does a good job of clearing odors and dust, but the fan is quite noisy at higher speeds. The replacement filters are also expensive. Overall, itâ€™s functional but could use some improvements.', 'Neutral', \"We appreciate your feedback.  We're glad it effectively removes odors and dust. We acknowledge the noise level and filter cost concerns and are exploring ways to improve future models.\"], ['Electric Kettle', 'This kettle is a lifesaver for my busy mornings. It boils water in under two minutes, and the auto shut-off feature adds safety. The stainless steel body is durable, and the sleek design looks great in my kitchen. A must-have for tea and coffee lovers!', 'Positive', \"We're thrilled you love your new kettle!  We appreciate your kind words about its speed, safety features, and stylish design.  Thanks for the amazing review!\"], ['Smartwatch', 'The watch looks good, but the functionality is disappointing. The heart rate monitor is inaccurate, and the step counter seems to count random movements. The app crashes frequently, and customer support is unresponsive. Regret buying this.', 'Negative', 'We sincerely apologize for your negative experience.  Inaccurate readings and app issues are unacceptable. Please contact us directly with details so we can investigate and offer a solution.  We value your feedback.'], ['Gaming Chair', 'The chair is comfortable but not exceptional. It offers good lumbar support, but the armrests feel flimsy and canâ€™t be adjusted properly. For the price, I expected better build quality. Itâ€™s fine if youâ€™re on a budget but not great for hardcore gamers.', 'Neutral', \"Thanks for your feedback! We appreciate your comments on the comfort and lumbar support.  We'll look into improving the armrest sturdiness and adjustability for future designs.\"], ['Coffee Maker', 'This coffee maker is a game changer! It brews a perfect cup every time, and the programmable timer ensures I wake up to fresh coffee. Cleaning is easy, and the design fits well on my countertop. Worth every penny for coffee enthusiasts.', 'Positive', \"We're thrilled you love your new coffee maker!  Your feedback means so much to us.  We appreciate you sharing your positive experience. Enjoy those perfect cups!\"], ['Wireless Router', 'This router is terrible. The Wi-Fi signal is weak, even in the same room, and it drops connections constantly. Firmware updates donâ€™t help, and tech support is useless. Stay away from this model if you value a stable internet connection.', 'Negative', 'We sincerely apologize for your negative experience.  Weak signal and frequent disconnections are unacceptable.  Please contact us directly with your order details so we can investigate and find a solution.'], ['DSLR Camera', 'The camera delivers decent image quality, but it struggles with autofocus in low light. The kit lens isnâ€™t great, and youâ€™ll need to invest in additional lenses for better results. Itâ€™s okay for beginners but not ideal for professionals.', None, None], ['Electric Scooter', 'Fantastic product! The scooter is fast, smooth, and has excellent battery life, lasting up to 25 miles on a single charge. The build is sturdy, and the LED display is easy to read. Perfect for commuting or leisure rides. Definitely recommend!', 'Positive', None]]\n"
     ]
    }
   ],
   "source": [
    "print(process_reviews(\"reviews.txt\"))"
   ]
  },
  {
   "cell_type": "markdown",
   "metadata": {},
   "source": []
  }
 ],
 "metadata": {
  "kernelspec": {
   "display_name": ".venv",
   "language": "python",
   "name": "python3"
  },
  "language_info": {
   "codemirror_mode": {
    "name": "ipython",
    "version": 3
   },
   "file_extension": ".py",
   "mimetype": "text/x-python",
   "name": "python",
   "nbconvert_exporter": "python",
   "pygments_lexer": "ipython3",
   "version": "3.12.6"
  }
 },
 "nbformat": 4,
 "nbformat_minor": 2
}
